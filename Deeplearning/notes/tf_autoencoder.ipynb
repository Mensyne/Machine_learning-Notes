{
 "cells": [
  {
   "cell_type": "markdown",
   "metadata": {
    "deletable": true,
    "editable": true
   },
   "source": [
    "# Tensorflow for autoencoder"
   ]
  },
  {
   "cell_type": "code",
   "execution_count": 1,
   "metadata": {
    "collapsed": true,
    "deletable": true,
    "editable": true
   },
   "outputs": [],
   "source": [
    "# load library\n",
    "import os\n",
    "import sys\n",
    "\n",
    "import numpy as np\n",
    "np.random.seed(42)\n",
    "\n",
    "import matplotlib.pyplot as plt\n",
    "%matplotlib inline\n",
    "plt.rcParams[\"axes.labelsize\"] = 14\n",
    "plt.rcParams[\"xtick.labelsize\"] = 12\n",
    "plt.rcParams[\"ytick.labelsize\"] = 12\n",
    "\n",
    "import tensorflow as tf\n",
    "\n",
    "PROJECT_ROOT_DIR = \".\"\n",
    "ID = \"autoencoders\""
   ]
  },
  {
   "cell_type": "code",
   "execution_count": 2,
   "metadata": {
    "collapsed": false,
    "deletable": true,
    "editable": true
   },
   "outputs": [],
   "source": [
    "# utility functions\n",
    "# save figures\n",
    "def save_fig(fig_id, tight_layout=True):\n",
    "    path = os.path.join(PROJECT_ROOT_DIR, \"images\", ID, fig_id + \".png\")\n",
    "    print(\"Saving figure\", fig_id)\n",
    "    if tight_layout:\n",
    "        plt.tight_layout()\n",
    "    plt.savefig(path, format=\"png\", dpi=300)\n",
    "\n",
    "def plot_image(image, shape=[28, 28]):\n",
    "    plt.imshow(image.reshape(shape), cmap=\"Greys\", interpolation=\"nearest\")\n",
    "    plt.axis(\"off\")\n",
    "    \n",
    "def plot_multi_images(images, n_rows, n_cols, pad=2):\n",
    "    images -= images.min()\n",
    "    w, h = images.shape[1:]\n",
    "    image = np.zeros(((w + pad) * n_rows + pad, (h + pad) * n_cols + pad))\n",
    "    for y in range(n_rows):\n",
    "        for x in range(n_cols):\n",
    "            image[(y*(w+pad)+pad):(y*(w+pad)+pad+h), (x*(h+pad)+pad):(x*(h+pad)+pad+h)] = images[y*n_cols+x]\n",
    "    plt.imshow(image, cmap=\"Greys\", interpolation=\"nearest\")\n",
    "    plt.axis(\"off\")"
   ]
  },
  {
   "cell_type": "markdown",
   "metadata": {
    "deletable": true,
    "editable": true
   },
   "source": [
    "## PCA with a linear Autoencoder"
   ]
  },
  {
   "cell_type": "code",
   "execution_count": 3,
   "metadata": {
    "collapsed": false,
    "deletable": true,
    "editable": true
   },
   "outputs": [],
   "source": [
    "# 3D dataset\n",
    "np.random.seed(2017)\n",
    "m = 100\n",
    "w1, w2 = 0.1, 0.3\n",
    "noise = 0.1\n",
    "\n",
    "angles = np.random.rand(m) * 3 * np.pi / 2 - 0.5\n",
    "X_train = np.empty((m, 3))\n",
    "X_train[:, 0] = np.cos(angles) + np.sin(angles)/2 + noise * np.random.randn(m) / 2\n",
    "X_train[:, 1] = np.sin(angles) * 0.7 + noise * np.random.randn(m) / 2\n",
    "X_train[:, 2] = X_train[:, 0] * w1 + X_train[:, 1] * w2 + noise * np.random.randn(m)"
   ]
  },
  {
   "cell_type": "code",
   "execution_count": 4,
   "metadata": {
    "collapsed": true,
    "deletable": true,
    "editable": true
   },
   "outputs": [],
   "source": [
    "# normalize the data\n",
    "from sklearn.preprocessing import StandardScaler\n",
    "scaler = StandardScaler()\n",
    "X_train = scaler.fit_transform(X_train)"
   ]
  },
  {
   "cell_type": "code",
   "execution_count": 5,
   "metadata": {
    "collapsed": true,
    "deletable": true,
    "editable": true
   },
   "outputs": [],
   "source": [
    "# PCA\n",
    "tf.reset_default_graph()\n",
    "\n",
    "n_inputs = 3\n",
    "n_hidden = 2 # encoder\n",
    "n_outputs = n_inputs\n",
    "\n",
    "learning_rate = 0.01\n",
    "\n",
    "X = tf.placeholder(tf.float32, [None, n_inputs])\n",
    "h = tf.layers.dense(X, n_hidden, activation=None)  # linear transform\n",
    "outputs = tf.layers.dense(h, n_outputs, activation=None)\n",
    "\n",
    "mse_loss = tf.reduce_mean(tf.square(X - outputs))\n",
    "\n",
    "train_op = tf.train.AdamOptimizer(learning_rate).minimize(mse_loss)\n",
    "init = tf.global_variables_initializer()"
   ]
  },
  {
   "cell_type": "code",
   "execution_count": 6,
   "metadata": {
    "collapsed": false,
    "deletable": true,
    "editable": true
   },
   "outputs": [
    {
     "name": "stdout",
     "output_type": "stream",
     "text": [
      "Epoch 0 mse: 1.77635\n",
      "Epoch 1000 mse: 0.0443353\n",
      "Epoch 2000 mse: 0.043948\n",
      "Epoch 3000 mse: 0.0439479\n",
      "Epoch 4000 mse: 0.0439479\n",
      "Epoch 5000 mse: 0.0439501\n",
      "Epoch 6000 mse: 0.043948\n",
      "Epoch 7000 mse: 0.043948\n",
      "Epoch 8000 mse: 0.043948\n",
      "Epoch 9000 mse: 0.0439479\n"
     ]
    }
   ],
   "source": [
    "n_epochs = 10000\n",
    "\n",
    "with tf.Session() as sess:\n",
    "    sess.run(init)\n",
    "    for epoch in range(n_epochs):\n",
    "        _, mse = sess.run([train_op, mse_loss], feed_dict={X: X_train})\n",
    "        if epoch % 1000 == 0:\n",
    "            print(\"Epoch\", epoch, \"mse:\", mse)\n",
    "    encoded_output = sess.run(h, feed_dict={X: X_train})"
   ]
  },
  {
   "cell_type": "code",
   "execution_count": 7,
   "metadata": {
    "collapsed": false,
    "deletable": true,
    "editable": true
   },
   "outputs": [
    {
     "name": "stdout",
     "output_type": "stream",
     "text": [
      "Saving figure linear_autoencoder_pca_plot\n"
     ]
    },
    {
     "data": {
      "image/png": "[encoded data removed]",
      "text/plain": [
       "<matplotlib.figure.Figure at 0x1b7ab0a8eb8>"
      ]
     },
     "metadata": {},
     "output_type": "display_data"
    }
   ],
   "source": [
    "# plot\n",
    "fig = plt.figure(figsize=(4,3))\n",
    "plt.plot(encoded_output[:,0], encoded_output[:, 1], \"b.\")\n",
    "plt.xlabel(\"$z_1$\", fontsize=18)\n",
    "plt.ylabel(\"$z_2$\", fontsize=18, rotation=0)\n",
    "save_fig(\"linear_autoencoder_pca_plot\")\n",
    "plt.show()"
   ]
  },
  {
   "cell_type": "markdown",
   "metadata": {
    "deletable": true,
    "editable": true
   },
   "source": [
    "## Stacked Autoencoders"
   ]
  },
  {
   "cell_type": "code",
   "execution_count": 8,
   "metadata": {
    "collapsed": false,
    "deletable": true,
    "editable": true
   },
   "outputs": [
    {
     "name": "stdout",
     "output_type": "stream",
     "text": [
      "Extracting /tmp/data/train-images-idx3-ubyte.gz\n",
      "Extracting /tmp/data/train-labels-idx1-ubyte.gz\n",
      "Extracting /tmp/data/t10k-images-idx3-ubyte.gz\n",
      "Extracting /tmp/data/t10k-labels-idx1-ubyte.gz\n"
     ]
    }
   ],
   "source": [
    "# mnist dataset\n",
    "from tensorflow.examples.tutorials.mnist import input_data\n",
    "mnist = input_data.read_data_sets(\"/tmp/data/\")"
   ]
  },
  {
   "cell_type": "markdown",
   "metadata": {
    "deletable": true,
    "editable": true
   },
   "source": [
    "### Train all layers at once"
   ]
  },
  {
   "cell_type": "code",
   "execution_count": 9,
   "metadata": {
    "collapsed": true,
    "deletable": true,
    "editable": true
   },
   "outputs": [],
   "source": [
    "tf.reset_default_graph()\n",
    "\n",
    "from functools import partial\n",
    "\n",
    "n_inputs = 28*28\n",
    "n_hidden1 = 300\n",
    "n_hidden2 = 150  # encoding\n",
    "n_hidden3 = n_hidden1\n",
    "n_outputs = n_inputs\n",
    "\n",
    "learning_rate = 0.01\n",
    "l2_reg = 1e-4\n",
    "\n",
    "dense_layer = partial(tf.layers.dense, activation=tf.nn.elu, \n",
    "                     kernel_initializer=tf.contrib.layers.variance_scaling_initializer(),\n",
    "                     kernel_regularizer=tf.contrib.layers.l2_regularizer(l2_reg))\n",
    "\n",
    "X = tf.placeholder(tf.float32, [None, n_inputs])\n",
    "\n",
    "h1 = dense_layer(X, n_hidden1)\n",
    "h2 = dense_layer(h1, n_hidden2)\n",
    "h3 = dense_layer(h2, n_hidden3)\n",
    "outputs = dense_layer(h3, n_outputs, activation=None)\n",
    "\n",
    "mse_loss = tf.reduce_mean(tf.square(outputs - X))\n",
    "reg_loss = tf.get_collection(tf.GraphKeys.REGULARIZATION_LOSSES)\n",
    "loss = tf.add_n([mse_loss] + reg_loss)\n",
    "\n",
    "train_op = tf.train.AdamOptimizer(learning_rate).minimize(loss)\n",
    "init = tf.global_variables_initializer()\n",
    "saver = tf.train.Saver()"
   ]
  },
  {
   "cell_type": "code",
   "execution_count": 10,
   "metadata": {
    "collapsed": false,
    "deletable": true,
    "editable": true
   },
   "outputs": [
    {
     "name": "stdout",
     "output_type": "stream",
     "text": [
      "Epoch 0 mse: 0.0240489\n",
      "Epoch 1 mse: 0.0128124\n",
      "Epoch 2 mse: 0.0118014\n",
      "Epoch 3 mse: 0.0113695\n",
      "Epoch 4 mse: 0.0111495\n"
     ]
    }
   ],
   "source": [
    "n_epochs = 5\n",
    "batch_size = 128\n",
    "num_batch = mnist.train.num_examples // batch_size\n",
    "\n",
    "with tf.Session() as sess:\n",
    "    sess.run(init)\n",
    "    for epoch in range(n_epochs):\n",
    "        for t in range(num_batch):\n",
    "            X_batch, _ = mnist.train.next_batch(batch_size)\n",
    "            _, mse_train = sess.run([train_op, mse_loss], feed_dict={X: X_batch})\n",
    "        print(\"Epoch\", epoch, \"mse:\", mse_train)\n",
    "    saver.save(sess, \"./tmp/my_model_all_layers.ckpt\")"
   ]
  },
  {
   "cell_type": "code",
   "execution_count": 11,
   "metadata": {
    "collapsed": true,
    "deletable": true,
    "editable": true
   },
   "outputs": [],
   "source": [
    "def show_reconstructed_digits(X, outputs, model_path = None, n_test_digits = 2):\n",
    "    with tf.Session() as sess:\n",
    "        if model_path:\n",
    "            saver.restore(sess, model_path)\n",
    "        X_test = mnist.test.images[:n_test_digits]\n",
    "        outputs_val = outputs.eval(feed_dict={X: X_test})\n",
    "\n",
    "    fig = plt.figure(figsize=(8, 3 * n_test_digits))\n",
    "    for digit_index in range(n_test_digits):\n",
    "        plt.subplot(n_test_digits, 2, digit_index * 2 + 1)\n",
    "        plot_image(X_test[digit_index])\n",
    "        plt.subplot(n_test_digits, 2, digit_index * 2 + 2)\n",
    "        plot_image(outputs_val[digit_index])"
   ]
  },
  {
   "cell_type": "code",
   "execution_count": 12,
   "metadata": {
    "collapsed": false,
    "deletable": true,
    "editable": true
   },
   "outputs": [
    {
     "name": "stdout",
     "output_type": "stream",
     "text": [
      "INFO:tensorflow:Restoring parameters from ./tmp/my_model_all_layers.ckpt\n",
      "Saving figure reconstruction_plot\n"
     ]
    },
    {
     "data": {
      "image/png": "[encoded data removed]",
      "text/plain": [
       "<matplotlib.figure.Figure at 0x1b7a81cd1d0>"
      ]
     },
     "metadata": {},
     "output_type": "display_data"
    }
   ],
   "source": [
    "show_reconstructed_digits(X, outputs, \"./tmp/my_model_all_layers.ckpt\")\n",
    "save_fig(\"reconstruction_plot\")"
   ]
  },
  {
   "cell_type": "markdown",
   "metadata": {
    "deletable": true,
    "editable": true
   },
   "source": [
    "### Tying weigts"
   ]
  },
  {
   "cell_type": "code",
   "execution_count": 13,
   "metadata": {
    "collapsed": true,
    "deletable": true,
    "editable": true
   },
   "outputs": [],
   "source": [
    "tf.reset_default_graph()\n",
    "\n",
    "activation = tf.nn.elu\n",
    "regularizer = tf.contrib.layers.l2_regularizer(l2_reg)\n",
    "initializer = tf.contrib.layers.variance_scaling_initializer()\n",
    "\n",
    "X = tf.placeholder(tf.float32, [None, n_inputs])\n",
    "\n",
    "W1 = tf.Variable(initializer([n_inputs, n_hidden1]), dtype=tf.float32, name=\"W1\")\n",
    "b1 = tf.Variable(tf.zeros([n_hidden1,]), name=\"b1\")\n",
    "W2 = tf.Variable(initializer([n_hidden1, n_hidden2]), dtype=tf.float32, name=\"W2\")\n",
    "b2 = tf.Variable(tf.zeros([n_hidden2,]), name=\"b2\")\n",
    "W3 = tf.transpose(W2, name=\"W3\")\n",
    "b3 = tf.Variable(tf.zeros([n_hidden3,]), name=\"b3\")\n",
    "W4 = tf.transpose(W1, name=\"W4\")\n",
    "b4 = tf.Variable(tf.zeros([n_outputs,]), name=\"b4\")\n",
    "\n",
    "h1 = activation(tf.nn.xw_plus_b(X, W1, b1))\n",
    "h2 = activation(tf.nn.xw_plus_b(h1, W2, b2))\n",
    "h3 = activation(tf.nn.xw_plus_b(h2, W3, b3))\n",
    "outputs = tf.nn.xw_plus_b(h3, W4, b4)\n",
    "\n",
    "mse_loss = tf.reduce_mean(tf.square(outputs - X))\n",
    "reg_loss = regularizer(W1) + regularizer(W2)\n",
    "loss = mse_loss + reg_loss\n",
    "\n",
    "train_op = tf.train.AdamOptimizer(learning_rate).minimize(loss)\n",
    "init = tf.global_variables_initializer()\n",
    "saver = tf.train.Saver()"
   ]
  },
  {
   "cell_type": "code",
   "execution_count": 14,
   "metadata": {
    "collapsed": false,
    "deletable": true,
    "editable": true
   },
   "outputs": [
    {
     "name": "stdout",
     "output_type": "stream",
     "text": [
      "Epoch 0 mse: 0.0112707\n",
      "Epoch 1 mse: 0.00796578\n",
      "Epoch 2 mse: 0.00771752\n",
      "Epoch 3 mse: 0.00727718\n",
      "Epoch 4 mse: 0.00726337\n"
     ]
    }
   ],
   "source": [
    "n_epochs = 5\n",
    "batch_size = 128\n",
    "num_batch = mnist.train.num_examples // batch_size\n",
    "\n",
    "with tf.Session() as sess:\n",
    "    sess.run(init)\n",
    "    for epoch in range(n_epochs):\n",
    "        for t in range(num_batch):\n",
    "            X_batch, _ = mnist.train.next_batch(batch_size)\n",
    "            _, mse_train = sess.run([train_op, mse_loss], feed_dict={X: X_batch})\n",
    "        print(\"Epoch\", epoch, \"mse:\", mse_train)\n",
    "    saver.save(sess, \"./tmp/my_model_all_layers_tying.ckpt\")"
   ]
  },
  {
   "cell_type": "code",
   "execution_count": 15,
   "metadata": {
    "collapsed": false,
    "deletable": true,
    "editable": true
   },
   "outputs": [
    {
     "name": "stdout",
     "output_type": "stream",
     "text": [
      "INFO:tensorflow:Restoring parameters from ./tmp/my_model_all_layers_tying.ckpt\n",
      "Saving figure reconstruction_plot2\n"
     ]
    },
    {
     "data": {
      "image/png": "[encoded data removed]",
      "text/plain": [
       "<matplotlib.figure.Figure at 0x1b7a7c40cf8>"
      ]
     },
     "metadata": {},
     "output_type": "display_data"
    }
   ],
   "source": [
    "show_reconstructed_digits(X, outputs, \"./tmp/my_model_all_layers_tying.ckpt\")\n",
    "save_fig(\"reconstruction_plot2\")"
   ]
  },
  {
   "cell_type": "markdown",
   "metadata": {
    "deletable": true,
    "editable": true
   },
   "source": [
    "### Training one Autoencoder at a time in multiple graphs"
   ]
  },
  {
   "cell_type": "code",
   "execution_count": 16,
   "metadata": {
    "collapsed": false,
    "deletable": true,
    "editable": true
   },
   "outputs": [],
   "source": [
    "# a graph for a layer\n",
    "def train_autoencoder_layer(inpt, n_units, n_epochs, batch_size, learning_rate = 0.01, \n",
    "                            l2_reg = 0.0005, activation=tf.nn.elu, initializer=tf.contrib.layers.variance_scaling_initializer()):\n",
    "    graph = tf.Graph()\n",
    "    with graph.as_default():\n",
    "        n_inputs = inpt.shape[1]\n",
    "        regularizer = tf.contrib.layers.l2_regularizer(l2_reg)\n",
    "        X = tf.placeholder(tf.float32, [None, n_inputs])\n",
    "        \n",
    "        h = tf.layers.dense(X, n_units, activation=activation, name=\"hidden\", kernel_initializer=initializer,\n",
    "                           kernel_regularizer=regularizer)\n",
    "        outputs = tf.layers.dense(h, n_inputs, activation=None, name=\"outputs\", kernel_initializer=initializer,\n",
    "                           kernel_regularizer=regularizer)\n",
    "        \n",
    "        mse_loss = tf.reduce_mean(tf.square(outputs - X))\n",
    "        reg_loss = tf.get_collection(tf.GraphKeys.REGULARIZATION_LOSSES)\n",
    "        loss = tf.add_n([mse_loss] + reg_loss)\n",
    "        \n",
    "        train_op = tf.train.AdamOptimizer(learning_rate).minimize(loss)\n",
    "        init = tf.global_variables_initializer()\n",
    "    \n",
    "    with tf.Session(graph=graph) as sess:\n",
    "        num_batch = len(inpt) // batch_size\n",
    "        sess.run(init)\n",
    "        for epoch in range(n_epochs):\n",
    "            for t in range(num_batch):\n",
    "                indices = np.random.permutation(len(inpt))[:batch_size]\n",
    "                X_batch = inpt[indices]\n",
    "                _, mse_train = sess.run([train_op, mse_loss], feed_dict={X: X_batch})\n",
    "            print(\"Epoch\", epoch, \"mse:\", mse_train)\n",
    "        params = dict([(var.name, var.eval()) for var in tf.get_collection(tf.GraphKeys.TRAINABLE_VARIABLES)])\n",
    "        h_val = h.eval(feed_dict={X: inpt})\n",
    "        return h_val, params[\"hidden/kernel:0\"], params[\"hidden/bias:0\"], params[\"outputs/kernel:0\"], params[\"outputs/bias:0\"]"
   ]
  },
  {
   "cell_type": "code",
   "execution_count": 17,
   "metadata": {
    "collapsed": false,
    "deletable": true,
    "editable": true
   },
   "outputs": [
    {
     "name": "stdout",
     "output_type": "stream",
     "text": [
      "Epoch 0 mse: 0.0189829\n",
      "Epoch 1 mse: 0.0184789\n",
      "Epoch 2 mse: 0.0191758\n",
      "Epoch 3 mse: 0.0191016\n",
      "Epoch 0 mse: 0.00448945\n",
      "Epoch 1 mse: 0.00456623\n",
      "Epoch 2 mse: 0.00490648\n",
      "Epoch 3 mse: 0.00482273\n"
     ]
    }
   ],
   "source": [
    "hidden_output, W1, b1, W4, b4 = train_autoencoder_layer(mnist.train.images, n_units=300, n_epochs=4, batch_size=150)\n",
    "_, W2, b2, W3, b3 = train_autoencoder_layer(hidden_output, n_units=150, n_epochs=4, batch_size=150)"
   ]
  },
  {
   "cell_type": "code",
   "execution_count": 18,
   "metadata": {
    "collapsed": false,
    "deletable": true,
    "editable": true
   },
   "outputs": [],
   "source": [
    "# stack \n",
    "tf.reset_default_graph()\n",
    "\n",
    "n_inputs = 28*28\n",
    "\n",
    "X = tf.placeholder(tf.float32, shape=[None, n_inputs])\n",
    "hidden1 = tf.nn.elu(tf.matmul(X, W1) + b1)\n",
    "hidden2 = tf.nn.elu(tf.matmul(hidden1, W2) + b2)\n",
    "hidden3 = tf.nn.elu(tf.matmul(hidden2, W3) + b3)\n",
    "outputs = tf.matmul(hidden3, W4) + b4"
   ]
  },
  {
   "cell_type": "code",
   "execution_count": 19,
   "metadata": {
    "collapsed": false,
    "deletable": true,
    "editable": true
   },
   "outputs": [
    {
     "data": {
      "image/png": "[encoded data removed]",
      "text/plain": [
       "<matplotlib.figure.Figure at 0x1b7ad7bba90>"
      ]
     },
     "metadata": {},
     "output_type": "display_data"
    }
   ],
   "source": [
    "show_reconstructed_digits(X, outputs)"
   ]
  },
  {
   "cell_type": "markdown",
   "metadata": {
    "deletable": true,
    "editable": true
   },
   "source": [
    "### Training one Autoencoder at a time in a single graph (Tying Weights)"
   ]
  },
  {
   "cell_type": "code",
   "execution_count": 56,
   "metadata": {
    "collapsed": false,
    "deletable": true,
    "editable": true
   },
   "outputs": [],
   "source": [
    "tf.reset_default_graph()\n",
    "\n",
    "n_inputs = 28*28\n",
    "n_hidden1 = 300\n",
    "n_hidden2 = 150  # encoding\n",
    "n_hidden3 = n_hidden1\n",
    "n_outputs = n_inputs\n",
    "\n",
    "learning_rate = 0.001\n",
    "l2_reg = 1e-5\n",
    "\n",
    "activation = tf.nn.elu\n",
    "regularizer = tf.contrib.layers.l2_regularizer(l2_reg)\n",
    "initializer = tf.contrib.layers.variance_scaling_initializer()\n",
    "\n",
    "X = tf.placeholder(tf.float32, [None, n_inputs])\n",
    "\n",
    "W1 = tf.Variable(initializer([n_inputs, n_hidden1]), dtype=tf.float32, name=\"W1\")\n",
    "b1 = tf.Variable(tf.zeros([n_hidden1,]), name=\"b1\")\n",
    "W2 = tf.Variable(initializer([n_hidden1, n_hidden2]), dtype=tf.float32, name=\"W2\")\n",
    "b2 = tf.Variable(tf.zeros([n_hidden2,]), name=\"b2\")\n",
    "W3 = tf.transpose(W2, name=\"W3\")\n",
    "b3 = tf.Variable(tf.zeros([n_hidden3,]), name=\"b3\")\n",
    "W4 = tf.transpose(W1, name=\"W4\")\n",
    "b4 = tf.Variable(tf.zeros([n_outputs,]), name=\"b4\")\n",
    "\n",
    "h1 = activation(tf.nn.xw_plus_b(X, W1, b1))\n",
    "h2 = activation(tf.nn.xw_plus_b(h1, W2, b2))\n",
    "h3 = activation(tf.nn.xw_plus_b(h2, W3, b3))\n",
    "outputs = tf.nn.xw_plus_b(h3, W4, b4)\n",
    "\n",
    "with tf.name_scope(\"layer1\"):\n",
    "    layer1_outputs = tf.nn.xw_plus_b(h1, W4, b4)\n",
    "    layer1_mse = tf.reduce_mean(tf.square(layer1_outputs - X))\n",
    "    layer1_loss = layer1_mse + regularizer(W1)\n",
    "    layer1_train_op = tf.train.AdamOptimizer(learning_rate).minimize(layer1_loss, var_list=[W1, b1, b4])\n",
    "\n",
    "with tf.name_scope(\"layer2\"):\n",
    "    layer2_mse = tf.reduce_mean(tf.square(h3 - h1))\n",
    "    layer2_loss = layer2_mse + regularizer(W2)\n",
    "    layer2_train_op = tf.train.AdamOptimizer(learning_rate).minimize(layer2_loss, var_list=[W2, b2, b3])\n",
    "    \n",
    "init = tf.global_variables_initializer()\n",
    "saver = tf.train.Saver()"
   ]
  },
  {
   "cell_type": "code",
   "execution_count": 57,
   "metadata": {
    "collapsed": false,
    "deletable": true,
    "editable": true
   },
   "outputs": [
    {
     "name": "stdout",
     "output_type": "stream",
     "text": [
      "Training layer #1\n",
      "0 Train MSE: 0.00377009\n",
      "1 Train MSE: 0.00223285\n",
      "2 Train MSE: 0.00165447\n",
      "3 Train MSE: 0.00153537\n",
      "49% Train MSE: 0.00142765\n",
      "Training layer #2\n",
      "0 Train MSE: 0.0172365\n",
      "19% Train MSE: 0.00936307\n",
      "2 Train MSE: 0.00732472\n",
      "3 Train MSE: 0.00654762\n",
      "49% Train MSE: 0.00575416\n",
      "Test MSE: 0.00601665\n"
     ]
    }
   ],
   "source": [
    "training_ops = [layer1_train_op, layer2_train_op]\n",
    "mses = [layer1_mse, layer2_mse]\n",
    "n_epochs = [5, 5]\n",
    "batch_sizes = [150, 150]\n",
    "\n",
    "with tf.Session() as sess:\n",
    "    init.run()\n",
    "    for layer in range(2):\n",
    "        print(\"Training layer #{}\".format(layer + 1))\n",
    "        if layer == 1:\n",
    "            mnist_hidden1 = h1.eval(feed_dict={X: mnist.train.images})\n",
    "        for epoch in range(n_epochs[layer]):\n",
    "            n_batches = mnist.train.num_examples // batch_sizes[layer]\n",
    "            for iteration in range(n_batches):\n",
    "                print(\"\\r{}%\".format(100 * iteration // n_batches), end=\"\")\n",
    "                sys.stdout.flush()\n",
    "                if layer == 1:\n",
    "                    indices = np.random.permutation(len(mnist_hidden1))\n",
    "                    hidden1_batch = mnist_hidden1[indices[:batch_sizes[layer]]]\n",
    "                    feed_dict = {h1: hidden1_batch}\n",
    "                    sess.run(training_ops[layer], feed_dict=feed_dict)\n",
    "                else:\n",
    "                    X_batch, _ = mnist.train.next_batch(batch_sizes[layer])\n",
    "                    feed_dict = {X: X_batch}\n",
    "                    sess.run(training_ops[layer], feed_dict=feed_dict)\n",
    "            mse_train = mses[layer].eval(feed_dict=feed_dict)\n",
    "            print(\"\\r{}\".format(epoch), \"Train MSE:\", mse_train)\n",
    "            saver.save(sess, \"./my_model_cache_frozen.ckpt\")\n",
    "    mse_test = mses[layer].eval(feed_dict={X: mnist.test.images})\n",
    "    print(\"Test MSE:\", mse_test)"
   ]
  },
  {
   "cell_type": "code",
   "execution_count": 58,
   "metadata": {
    "collapsed": false,
    "deletable": true,
    "editable": true
   },
   "outputs": [
    {
     "name": "stdout",
     "output_type": "stream",
     "text": [
      "INFO:tensorflow:Restoring parameters from ./my_model_cache_frozen.ckpt\n"
     ]
    },
    {
     "data": {
      "image/png": "[encoded data removed]",
      "text/plain": [
       "<matplotlib.figure.Figure at 0x1b7af067b38>"
      ]
     },
     "metadata": {},
     "output_type": "display_data"
    }
   ],
   "source": [
    "show_reconstructed_digits(X, outputs, \"./my_model_cache_frozen.ckpt\")"
   ]
  },
  {
   "cell_type": "markdown",
   "metadata": {
    "collapsed": true,
    "deletable": true,
    "editable": true
   },
   "source": [
    "## Unsupervised pretraining for mnist"
   ]
  },
  {
   "cell_type": "code",
   "execution_count": 59,
   "metadata": {
    "collapsed": false
   },
   "outputs": [],
   "source": [
    "tf.reset_default_graph()\n",
    "\n",
    "n_inputs = 28 * 28\n",
    "n_hidden1 = 300\n",
    "n_hidden2 = 150\n",
    "n_outputs = 10\n",
    "\n",
    "learning_rate = 0.01\n",
    "l2_reg = 5e-4\n",
    "\n",
    "activation = tf.nn.elu\n",
    "regularizer = tf.contrib.layers.l2_regularizer(l2_reg)\n",
    "initializer = tf.contrib.layers.variance_scaling_initializer()\n",
    "\n",
    "X = tf.placeholder(tf.float32, [None, n_inputs])\n",
    "y = tf.placeholder(tf.int32, [None])\n",
    "\n",
    "W1 = tf.Variable(initializer([n_inputs, n_hidden1]), dtype=tf.float32, name=\"W1\")\n",
    "b1 = tf.Variable(tf.zeros([n_hidden1,]), name=\"b1\")\n",
    "W2 = tf.Variable(initializer([n_hidden1, n_hidden2]), dtype=tf.float32, name=\"W2\")\n",
    "b2 = tf.Variable(tf.zeros([n_hidden2,]), name=\"b2\")\n",
    "W3 = tf.Variable(initializer([n_hidden2, n_outputs]), dtype=tf.float32, name=\"W3\")\n",
    "b3 = tf.Variable(tf.zeros([n_outputs,]), name=\"b3\")\n",
    "\n",
    "h1 = activation(tf.nn.xw_plus_b(X, W1, b1))\n",
    "h2 = activation(tf.nn.xw_plus_b(h1, W2, b2))\n",
    "logits = tf.nn.xw_plus_b(h2, W3, b3)\n",
    "\n",
    "cross_entropy = tf.nn.sparse_softmax_cross_entropy_with_logits(logits=logits, labels=y)\n",
    "reg_loss = regularizer(W1) + regularizer(W2) + regularizer(W3)\n",
    "loss = reg_loss + tf.reduce_mean(cross_entropy)\n",
    "\n",
    "train_op = tf.train.AdamOptimizer(learning_rate=learning_rate).minimize(loss)\n",
    "\n",
    "correct = tf.nn.in_top_k(logits, y, 1)\n",
    "accuracy = tf.reduce_mean(tf.cast(correct, tf.float32))\n",
    "\n",
    "init = tf.global_variables_initializer()\n",
    "pretrain_saver = tf.train.Saver([W1, W2, b1, b2])\n",
    "saver = tf.train.Saver()"
   ]
  },
  {
   "cell_type": "code",
   "execution_count": 60,
   "metadata": {
    "collapsed": false
   },
   "outputs": [
    {
     "name": "stdout",
     "output_type": "stream",
     "text": [
      "0 Train accuracy: 0.953333 Test accuracy: 0.9358\n",
      "1 Train accuracy: 0.993333 Test accuracy: 0.9469\n",
      "29% Train accuracy: 0.973333 Test accuracy: 0.9476\n",
      "3 Train accuracy: 0.973333 Test accuracy: 0.9323\n"
     ]
    }
   ],
   "source": [
    "# regular training\n",
    "n_epochs = 4\n",
    "batch_size = 150\n",
    "n_labeled_instances = 20000\n",
    "\n",
    "with tf.Session() as sess:\n",
    "    init.run()\n",
    "    for epoch in range(n_epochs):\n",
    "        n_batches = n_labeled_instances // batch_size\n",
    "        for iteration in range(n_batches):\n",
    "            print(\"\\r{}%\".format(100 * iteration // n_batches), end=\"\")\n",
    "            sys.stdout.flush()\n",
    "            indices = np.random.permutation(n_labeled_instances)[:batch_size]\n",
    "            X_batch, y_batch = mnist.train.images[indices], mnist.train.labels[indices]\n",
    "            sess.run(train_op, feed_dict={X: X_batch, y: y_batch})\n",
    "        accuracy_val = accuracy.eval(feed_dict={X: X_batch, y: y_batch})\n",
    "        print(\"\\r{}\".format(epoch), \"Train accuracy:\", accuracy_val, end=\" \")\n",
    "        saver.save(sess, \"./my_model_supervised.ckpt\")\n",
    "        accuracy_val = accuracy.eval(feed_dict={X: mnist.test.images, y: mnist.test.labels})\n",
    "        print(\"Test accuracy:\", accuracy_val)"
   ]
  },
  {
   "cell_type": "code",
   "execution_count": 61,
   "metadata": {
    "collapsed": false
   },
   "outputs": [
    {
     "name": "stdout",
     "output_type": "stream",
     "text": [
      "INFO:tensorflow:Restoring parameters from ./my_model_cache_frozen.ckpt\n",
      "0 Train accuracy: 0.926667\tTest accuracy: 0.9125\n",
      "19% Train accuracy: 0.966667\tTest accuracy: 0.939\n",
      "2 Train accuracy: 0.98\tTest accuracy: 0.9249\n",
      "3 Train accuracy: 0.966667\tTest accuracy: 0.9286\n"
     ]
    }
   ],
   "source": [
    "## with pretraining\n",
    "n_epochs = 4\n",
    "batch_size = 150\n",
    "n_labeled_instances = 20000\n",
    "\n",
    "#training_op = optimizer.minimize(loss, var_list=[weights3, biases3])  # Freeze layers 1 and 2 (optional)\n",
    "\n",
    "with tf.Session() as sess:\n",
    "    init.run()\n",
    "    pretrain_saver.restore(sess, \"./my_model_cache_frozen.ckpt\")\n",
    "    for epoch in range(n_epochs):\n",
    "        n_batches = n_labeled_instances // batch_size\n",
    "        for iteration in range(n_batches):\n",
    "            print(\"\\r{}%\".format(100 * iteration // n_batches), end=\"\")\n",
    "            sys.stdout.flush()\n",
    "            indices = np.random.permutation(n_labeled_instances)[:batch_size]\n",
    "            X_batch, y_batch = mnist.train.images[indices], mnist.train.labels[indices]\n",
    "            sess.run(train_op, feed_dict={X: X_batch, y: y_batch})\n",
    "        accuracy_val = accuracy.eval(feed_dict={X: X_batch, y: y_batch})\n",
    "        print(\"\\r{}\".format(epoch), \"Train accuracy:\", accuracy_val, end=\"\\t\")\n",
    "        saver.save(sess, \"./my_model_supervised_pretrained.ckpt\")\n",
    "        accuracy_val = accuracy.eval(feed_dict={X: mnist.test.images, y: mnist.test.labels})\n",
    "        print(\"Test accuracy:\", accuracy_val)"
   ]
  },
  {
   "cell_type": "markdown",
   "metadata": {},
   "source": [
    "## Stacked denoising autoencoder"
   ]
  },
  {
   "cell_type": "code",
   "execution_count": 63,
   "metadata": {
    "collapsed": false
   },
   "outputs": [],
   "source": [
    "tf.reset_default_graph()\n",
    "\n",
    "n_inputs = 28 * 28\n",
    "n_hidden1 = 300\n",
    "n_hidden2 = 150  # codings\n",
    "n_hidden3 = n_hidden1\n",
    "n_outputs = n_inputs\n",
    "\n",
    "learning_rate = 0.01\n",
    "l2_reg = 1e-5\n",
    "dropout_rate = 0.3\n",
    "\n",
    "activation = tf.nn.elu\n",
    "regularizer = tf.contrib.layers.l2_regularizer(l2_reg)\n",
    "initializer = tf.contrib.layers.variance_scaling_initializer()\n",
    "\n",
    "X = tf.placeholder(tf.float32, [None, n_inputs])\n",
    "is_training = tf.placeholder_with_default(False, shape=[], name=\"is_training\")\n",
    "X_drop = tf.layers.dropout(X, dropout_rate, training=is_training)\n",
    "\n",
    "W1 = tf.Variable(initializer([n_inputs, n_hidden1]), dtype=tf.float32, name=\"W1\")\n",
    "b1 = tf.Variable(tf.zeros([n_hidden1,]), name=\"b1\")\n",
    "W2 = tf.Variable(initializer([n_hidden1, n_hidden2]), dtype=tf.float32, name=\"W2\")\n",
    "b2 = tf.Variable(tf.zeros([n_hidden2,]), name=\"b2\")\n",
    "W3 = tf.transpose(W2, name=\"W3\")\n",
    "b3 = tf.Variable(tf.zeros([n_hidden3,]), name=\"b3\")\n",
    "W4 = tf.transpose(W1, name=\"W4\")\n",
    "b4 = tf.Variable(tf.zeros([n_outputs,]), name=\"b4\")\n",
    "\n",
    "h1 = activation(tf.nn.xw_plus_b(X_drop, W1, b1))\n",
    "h2 = activation(tf.nn.xw_plus_b(h1, W2, b2))\n",
    "h3 = activation(tf.nn.xw_plus_b(h2, W3, b3))\n",
    "outputs = tf.nn.xw_plus_b(h3, W4, b4)\n",
    "\n",
    "mse_loss = tf.reduce_mean(tf.square(outputs - X))\n",
    "reg_loss = regularizer(W1) + regularizer(W2)\n",
    "loss = mse_loss + reg_loss\n",
    "\n",
    "train_op = tf.train.AdamOptimizer(learning_rate).minimize(loss)\n",
    "init = tf.global_variables_initializer()\n",
    "saver = tf.train.Saver()"
   ]
  },
  {
   "cell_type": "code",
   "execution_count": 64,
   "metadata": {
    "collapsed": false
   },
   "outputs": [
    {
     "name": "stdout",
     "output_type": "stream",
     "text": [
      "0 Train MSE: 0.0188708\n",
      "1 Train MSE: 0.0135786\n",
      "29% Train MSE: 0.0113397\n",
      "3 Train MSE: 0.010279\n",
      "4 Train MSE: 0.00961263\n",
      "5 Train MSE: 0.00885574\n",
      "69% Train MSE: 0.00939195\n",
      "7 Train MSE: 0.00923494\n",
      "8 Train MSE: 0.00853442\n",
      "9 Train MSE: 0.0090277\n"
     ]
    }
   ],
   "source": [
    "n_epochs = 10\n",
    "batch_size = 150\n",
    "\n",
    "with tf.Session() as sess:\n",
    "    init.run()\n",
    "    for epoch in range(n_epochs):\n",
    "        n_batches = mnist.train.num_examples // batch_size\n",
    "        for iteration in range(n_batches):\n",
    "            print(\"\\r{}%\".format(100 * iteration // n_batches), end=\"\")\n",
    "            sys.stdout.flush()\n",
    "            X_batch, _ = mnist.train.next_batch(batch_size)\n",
    "            sess.run(train_op, feed_dict={X: X_batch, is_training: True})\n",
    "        mse_train = mse_loss.eval(feed_dict={X: X_batch, is_training: False})\n",
    "        print(\"\\r{}\".format(epoch), \"Train MSE:\", mse_train)\n",
    "        saver.save(sess, \"./my_model_stacked_denoising.ckpt\")"
   ]
  },
  {
   "cell_type": "code",
   "execution_count": 65,
   "metadata": {
    "collapsed": false
   },
   "outputs": [
    {
     "name": "stdout",
     "output_type": "stream",
     "text": [
      "INFO:tensorflow:Restoring parameters from ./my_model_stacked_denoising.ckpt\n"
     ]
    },
    {
     "data": {
      "image/png": "[encoded data removed]",
      "text/plain": [
       "<matplotlib.figure.Figure at 0x1b7adbc7a20>"
      ]
     },
     "metadata": {},
     "output_type": "display_data"
    }
   ],
   "source": [
    "show_reconstructed_digits(X, outputs, \"./my_model_stacked_denoising.ckpt\")"
   ]
  },
  {
   "cell_type": "markdown",
   "metadata": {},
   "source": [
    "### Visualizing the extracted features"
   ]
  },
  {
   "cell_type": "code",
   "execution_count": 67,
   "metadata": {
    "collapsed": false
   },
   "outputs": [
    {
     "name": "stdout",
     "output_type": "stream",
     "text": [
      "INFO:tensorflow:Restoring parameters from ./my_model_stacked_denoising.ckpt\n"
     ]
    }
   ],
   "source": [
    "with tf.Session() as sess:\n",
    "    saver.restore(sess, \"./my_model_stacked_denoising.ckpt\")\n",
    "    W1_val = W1.eval()"
   ]
  },
  {
   "cell_type": "code",
   "execution_count": 70,
   "metadata": {
    "collapsed": false
   },
   "outputs": [
    {
     "name": "stdout",
     "output_type": "stream",
     "text": [
      "Saving figure extracted_features_plot\n"
     ]
    },
    {
     "data": {
      "image/png": "[encoded data removed]",
      "text/plain": [
       "<matplotlib.figure.Figure at 0x1b7afd39f98>"
      ]
     },
     "metadata": {},
     "output_type": "display_data"
    }
   ],
   "source": [
    "for i in range(5):\n",
    "    plt.subplot(1, 5, i+1)\n",
    "    plot_image(W1_val.T[i])\n",
    "\n",
    "save_fig(\"extracted_features_plot\")\n",
    "plt.show()"
   ]
  },
  {
   "cell_type": "markdown",
   "metadata": {},
   "source": [
    "## Sparse Autoencoder"
   ]
  },
  {
   "cell_type": "code",
   "execution_count": 71,
   "metadata": {
    "collapsed": false
   },
   "outputs": [
    {
     "name": "stderr",
     "output_type": "stream",
     "text": [
      "d:\\anaconda3\\envs\\tf_new\\lib\\site-packages\\ipykernel\\__main__.py:3: RuntimeWarning: divide by zero encountered in true_divide\n",
      "  app.launch_new_instance()\n"
     ]
    },
    {
     "name": "stdout",
     "output_type": "stream",
     "text": [
      "Saving figure sparsity_loss_plot\n"
     ]
    },
    {
     "data": {
      "image/png": "[encoded data removed]",
      "text/plain": [
       "<matplotlib.figure.Figure at 0x1b7b00015f8>"
      ]
     },
     "metadata": {},
     "output_type": "display_data"
    }
   ],
   "source": [
    "p = 0.1\n",
    "q = np.linspace(0, 1, 500)\n",
    "kl_div = p * np.log(p / q) + (1 - p) * np.log((1 - p) / (1 - q))\n",
    "mse = (p - q)**2\n",
    "plt.plot([p, p], [0, 0.3], \"k:\")\n",
    "plt.text(0.05, 0.32, \"Target\\nsparsity\", fontsize=14)\n",
    "plt.plot(q, kl_div, \"b-\", label=\"KL divergence\")\n",
    "plt.plot(q, mse, \"r--\", label=\"MSE\")\n",
    "plt.legend(loc=\"upper left\")\n",
    "plt.xlabel(\"Actual sparsity\")\n",
    "plt.ylabel(\"Cost\", rotation=0)\n",
    "plt.axis([0, 1, 0, 0.95])\n",
    "save_fig(\"sparsity_loss_plot\")"
   ]
  },
  {
   "cell_type": "code",
   "execution_count": 72,
   "metadata": {
    "collapsed": true
   },
   "outputs": [],
   "source": [
    "# KL divergence\n",
    "def kl_divergence(p, q):\n",
    "    return p * tf.log(p / q) + (1 - p) * tf.log((1 - p) / (1 - q))"
   ]
  },
  {
   "cell_type": "code",
   "execution_count": 76,
   "metadata": {
    "collapsed": true
   },
   "outputs": [],
   "source": [
    "tf.reset_default_graph()\n",
    "\n",
    "n_inputs = 28 * 28\n",
    "n_hidden = 1000  # sparse coding\n",
    "n_outputs = n_inputs\n",
    "\n",
    "learning_rate = 0.01\n",
    "sparsity_target = 0.1\n",
    "sparsity_weight = 0.2\n",
    "\n",
    "activation = tf.nn.sigmoid\n",
    "initializer = tf.contrib.layers.variance_scaling_initializer()\n",
    "\n",
    "X = tf.placeholder(tf.float32, [None, n_inputs])\n",
    "\n",
    "W1 = tf.Variable(initializer([n_inputs, n_hidden]), dtype=tf.float32, name=\"W1\")\n",
    "W2 = tf.Variable(initializer([n_hidden, n_outputs]), dtype=tf.float32, name=\"W2\")\n",
    "b1 = tf.Variable(tf.zeros([n_hidden,]), name=\"b1\")\n",
    "b2 = tf.Variable(tf.zeros([n_outputs,]), name=\"b2\")\n",
    "\n",
    "h1 = activation(tf.nn.xw_plus_b(X, W1, b1))\n",
    "outputs = tf.nn.xw_plus_b(h1, W2, b2)\n",
    "\n",
    "mse_loss = tf.reduce_mean(tf.square(outputs - X))\n",
    "sparsity_loss = tf.reduce_mean(kl_divergence(sparsity_target, tf.reduce_mean(h1, axis=0)))\n",
    "loss = mse_loss + sparsity_weight * sparsity_loss\n",
    "\n",
    "train_op = tf.train.AdamOptimizer(learning_rate).minimize(loss)\n",
    "\n",
    "init = tf.global_variables_initializer()\n",
    "saver = tf.train.Saver()"
   ]
  },
  {
   "cell_type": "code",
   "execution_count": 77,
   "metadata": {
    "collapsed": false
   },
   "outputs": [
    {
     "name": "stdout",
     "output_type": "stream",
     "text": [
      "0 Train MSE: 0.089448 \tSparsity loss: 0.31594 \tTotal loss: 0.152636\n",
      "1 Train MSE: 0.0798196 \tSparsity loss: 0.301433 \tTotal loss: 0.140106\n",
      "2 Train MSE: 0.0702621 \tSparsity loss: 0.307248 \tTotal loss: 0.131712\n",
      "3 Train MSE: 0.072368 \tSparsity loss: 0.263305 \tTotal loss: 0.125029\n",
      "4 Train MSE: 0.0658286 \tSparsity loss: 0.231783 \tTotal loss: 0.112185\n",
      "5 Train MSE: 0.0573753 \tSparsity loss: 0.152271 \tTotal loss: 0.0878295\n",
      "6 Train MSE: 0.0461967 \tSparsity loss: 0.091913 \tTotal loss: 0.0645794\n",
      "7 Train MSE: 0.0323527 \tSparsity loss: 0.0477101 \tTotal loss: 0.0418947\n",
      "8 Train MSE: 0.0224417 \tSparsity loss: 0.0230307 \tTotal loss: 0.0270478\n",
      "9 Train MSE: 0.0169484 \tSparsity loss: 0.014174 \tTotal loss: 0.0197832\n",
      "10 Train MSE: 0.0135708 \tSparsity loss: 0.00927507 \tTotal loss: 0.0154258\n",
      "11 Train MSE: 0.0115894 \tSparsity loss: 0.0081538 \tTotal loss: 0.0132201\n",
      "12 Train MSE: 0.0103312 \tSparsity loss: 0.00816472 \tTotal loss: 0.0119641\n",
      "13 Train MSE: 0.00917437 \tSparsity loss: 0.00835424 \tTotal loss: 0.0108452\n",
      "14 Train MSE: 0.0083915 \tSparsity loss: 0.00798041 \tTotal loss: 0.00998758\n",
      "15 Train MSE: 0.00779623 \tSparsity loss: 0.00808132 \tTotal loss: 0.00941249\n",
      "16 Train MSE: 0.00734944 \tSparsity loss: 0.00785454 \tTotal loss: 0.00892035\n",
      "17 Train MSE: 0.00700855 \tSparsity loss: 0.00766381 \tTotal loss: 0.00854131\n",
      "18 Train MSE: 0.00669476 \tSparsity loss: 0.00779145 \tTotal loss: 0.00825305\n",
      "19 Train MSE: 0.00650377 \tSparsity loss: 0.00698666 \tTotal loss: 0.0079011\n",
      "20 Train MSE: 0.00600064 \tSparsity loss: 0.00718371 \tTotal loss: 0.00743738\n",
      "21 Train MSE: 0.00566541 \tSparsity loss: 0.0073112 \tTotal loss: 0.00712765\n",
      "22 Train MSE: 0.00574734 \tSparsity loss: 0.00675132 \tTotal loss: 0.0070976\n",
      "23 Train MSE: 0.00525059 \tSparsity loss: 0.00684258 \tTotal loss: 0.00661911\n",
      "24 Train MSE: 0.00503834 \tSparsity loss: 0.00657567 \tTotal loss: 0.00635348\n",
      "25 Train MSE: 0.00496254 \tSparsity loss: 0.00634394 \tTotal loss: 0.00623133\n",
      "26 Train MSE: 0.00478003 \tSparsity loss: 0.00625404 \tTotal loss: 0.00603084\n",
      "27 Train MSE: 0.00474681 \tSparsity loss: 0.00605509 \tTotal loss: 0.00595783\n",
      "28 Train MSE: 0.00474311 \tSparsity loss: 0.00615628 \tTotal loss: 0.00597437\n",
      "29 Train MSE: 0.00428011 \tSparsity loss: 0.00605045 \tTotal loss: 0.0054902\n",
      "30 Train MSE: 0.00418255 \tSparsity loss: 0.00616588 \tTotal loss: 0.00541573\n",
      "31 Train MSE: 0.00419088 \tSparsity loss: 0.00580817 \tTotal loss: 0.00535251\n",
      "32 Train MSE: 0.00407085 \tSparsity loss: 0.0056494 \tTotal loss: 0.00520073\n",
      "33 Train MSE: 0.00385356 \tSparsity loss: 0.00523736 \tTotal loss: 0.00490103\n",
      "34 Train MSE: 0.00382184 \tSparsity loss: 0.00522718 \tTotal loss: 0.00486727\n",
      "35 Train MSE: 0.00372391 \tSparsity loss: 0.00511245 \tTotal loss: 0.0047464\n",
      "36 Train MSE: 0.00357969 \tSparsity loss: 0.00498948 \tTotal loss: 0.00457758\n",
      "37 Train MSE: 0.00381227 \tSparsity loss: 0.00487638 \tTotal loss: 0.00478755\n",
      "38 Train MSE: 0.00352203 \tSparsity loss: 0.00481535 \tTotal loss: 0.0044851\n",
      "39 Train MSE: 0.00347288 \tSparsity loss: 0.00428925 \tTotal loss: 0.00433073\n",
      "40 Train MSE: 0.00329288 \tSparsity loss: 0.00448029 \tTotal loss: 0.00418894\n",
      "41 Train MSE: 0.00351159 \tSparsity loss: 0.00426345 \tTotal loss: 0.00436428\n",
      "42 Train MSE: 0.00350584 \tSparsity loss: 0.00429598 \tTotal loss: 0.00436504\n",
      "43 Train MSE: 0.00330488 \tSparsity loss: 0.00410366 \tTotal loss: 0.00412561\n",
      "44 Train MSE: 0.00327868 \tSparsity loss: 0.00377962 \tTotal loss: 0.0040346\n",
      "45 Train MSE: 0.00306268 \tSparsity loss: 0.00394039 \tTotal loss: 0.00385076\n",
      "46 Train MSE: 0.00318153 \tSparsity loss: 0.00375002 \tTotal loss: 0.00393153\n",
      "47 Train MSE: 0.00303979 \tSparsity loss: 0.00397687 \tTotal loss: 0.00383517\n",
      "48 Train MSE: 0.00312536 \tSparsity loss: 0.00382304 \tTotal loss: 0.00388996\n",
      "49 Train MSE: 0.00287534 \tSparsity loss: 0.00353072 \tTotal loss: 0.00358149\n",
      "50 Train MSE: 0.00305251 \tSparsity loss: 0.00320351 \tTotal loss: 0.00369321\n",
      "51 Train MSE: 0.00286479 \tSparsity loss: 0.0029645 \tTotal loss: 0.00345769\n",
      "52 Train MSE: 0.00285689 \tSparsity loss: 0.00305719 \tTotal loss: 0.00346833\n",
      "53 Train MSE: 0.00288925 \tSparsity loss: 0.00286612 \tTotal loss: 0.00346248\n",
      "54 Train MSE: 0.00278685 \tSparsity loss: 0.00280555 \tTotal loss: 0.00334796\n",
      "55 Train MSE: 0.00258185 \tSparsity loss: 0.00270222 \tTotal loss: 0.00312229\n",
      "56 Train MSE: 0.00271206 \tSparsity loss: 0.00252305 \tTotal loss: 0.00321667\n",
      "57 Train MSE: 0.00314271 \tSparsity loss: 0.00249987 \tTotal loss: 0.00364268\n",
      "58 Train MSE: 0.0027225 \tSparsity loss: 0.00239151 \tTotal loss: 0.00320081\n",
      "59 Train MSE: 0.00248702 \tSparsity loss: 0.00235511 \tTotal loss: 0.00295804\n",
      "60 Train MSE: 0.00274784 \tSparsity loss: 0.00229175 \tTotal loss: 0.00320619\n",
      "61 Train MSE: 0.0023637 \tSparsity loss: 0.0021467 \tTotal loss: 0.00279304\n",
      "62 Train MSE: 0.00376068 \tSparsity loss: 0.0017723 \tTotal loss: 0.00411514\n",
      "63 Train MSE: 0.00233923 \tSparsity loss: 0.00219192 \tTotal loss: 0.00277762\n",
      "64 Train MSE: 0.00231539 \tSparsity loss: 0.00185233 \tTotal loss: 0.00268585\n",
      "65 Train MSE: 0.0022342 \tSparsity loss: 0.00201337 \tTotal loss: 0.00263687\n",
      "66 Train MSE: 0.00308808 \tSparsity loss: 0.00189729 \tTotal loss: 0.00346754\n",
      "67 Train MSE: 0.0021982 \tSparsity loss: 0.00183677 \tTotal loss: 0.00256555\n",
      "68 Train MSE: 0.00226939 \tSparsity loss: 0.00162599 \tTotal loss: 0.00259459\n",
      "69 Train MSE: 0.00247374 \tSparsity loss: 0.00150849 \tTotal loss: 0.00277544\n",
      "70 Train MSE: 0.00228837 \tSparsity loss: 0.00148242 \tTotal loss: 0.00258486\n",
      "71 Train MSE: 0.0024456 \tSparsity loss: 0.00147809 \tTotal loss: 0.00274121\n",
      "72 Train MSE: 0.00210597 \tSparsity loss: 0.00138623 \tTotal loss: 0.00238321\n",
      "73 Train MSE: 0.0021107 \tSparsity loss: 0.00129582 \tTotal loss: 0.00236987\n",
      "74 Train MSE: 0.0022424 \tSparsity loss: 0.00129065 \tTotal loss: 0.00250053\n",
      "75 Train MSE: 0.00233301 \tSparsity loss: 0.00110327 \tTotal loss: 0.00255366\n",
      "76 Train MSE: 0.00219297 \tSparsity loss: 0.00117603 \tTotal loss: 0.00242817\n",
      "77 Train MSE: 0.00248895 \tSparsity loss: 0.00109521 \tTotal loss: 0.002708\n",
      "78 Train MSE: 0.002521 \tSparsity loss: 0.00096837 \tTotal loss: 0.00271467\n",
      "79 Train MSE: 0.00189789 \tSparsity loss: 0.00103555 \tTotal loss: 0.002105\n",
      "80 Train MSE: 0.00280811 \tSparsity loss: 0.0010167 \tTotal loss: 0.00301145\n",
      "81 Train MSE: 0.00230722 \tSparsity loss: 0.000979726 \tTotal loss: 0.00250317\n",
      "82 Train MSE: 0.00351125 \tSparsity loss: 0.000846072 \tTotal loss: 0.00368046\n",
      "83 Train MSE: 0.00218575 \tSparsity loss: 0.000720168 \tTotal loss: 0.00232979\n",
      "84 Train MSE: 0.00186479 \tSparsity loss: 0.00083085 \tTotal loss: 0.00203096\n",
      "85 Train MSE: 0.00191433 \tSparsity loss: 0.000784804 \tTotal loss: 0.00207129\n",
      "86 Train MSE: 0.00217137 \tSparsity loss: 0.00075687 \tTotal loss: 0.00232275\n",
      "87 Train MSE: 0.00290488 \tSparsity loss: 0.000699203 \tTotal loss: 0.00304472\n",
      "88 Train MSE: 0.0022122 \tSparsity loss: 0.000660279 \tTotal loss: 0.00234425\n",
      "89 Train MSE: 0.00301047 \tSparsity loss: 0.000502598 \tTotal loss: 0.00311099\n",
      "90 Train MSE: 0.00225816 \tSparsity loss: 0.000577241 \tTotal loss: 0.00237361\n",
      "91 Train MSE: 0.00226497 \tSparsity loss: 0.00067302 \tTotal loss: 0.00239957\n",
      "92 Train MSE: 0.00283404 \tSparsity loss: 0.000533305 \tTotal loss: 0.0029407\n",
      "93 Train MSE: 0.00213362 \tSparsity loss: 0.000496102 \tTotal loss: 0.00223284\n",
      "94 Train MSE: 0.0039725 \tSparsity loss: 0.000455502 \tTotal loss: 0.0040636\n",
      "95 Train MSE: 0.00228322 \tSparsity loss: 0.000475096 \tTotal loss: 0.00237824\n",
      "96 Train MSE: 0.00336009 \tSparsity loss: 0.000467131 \tTotal loss: 0.00345352\n",
      "97 Train MSE: 0.00208409 \tSparsity loss: 0.000463994 \tTotal loss: 0.00217689\n",
      "98 Train MSE: 0.00231182 \tSparsity loss: 0.000605519 \tTotal loss: 0.00243292\n",
      "99 Train MSE: 0.00337147 \tSparsity loss: 0.000389955 \tTotal loss: 0.00344946\n"
     ]
    }
   ],
   "source": [
    "n_epochs = 100\n",
    "batch_size = 1000\n",
    "\n",
    "with tf.Session() as sess:\n",
    "    init.run()\n",
    "    for epoch in range(n_epochs):\n",
    "        n_batches = mnist.train.num_examples // batch_size\n",
    "        for iteration in range(n_batches):\n",
    "            print(\"\\r{}%\".format(100 * iteration // n_batches), end=\"\")\n",
    "            sys.stdout.flush()\n",
    "            X_batch, y_batch = mnist.train.next_batch(batch_size)\n",
    "            sess.run(train_op, feed_dict={X: X_batch})\n",
    "        mse_val, sparsity_loss_val, loss_val = sess.run([mse_loss, sparsity_loss, loss], feed_dict={X: X_batch})\n",
    "        print(\"\\r{}\".format(epoch), \"Train MSE:\", mse_val, \"\\tSparsity loss:\", sparsity_loss_val, \"\\tTotal loss:\", loss_val)\n",
    "        saver.save(sess, \"./my_model_sparse.ckpt\")"
   ]
  },
  {
   "cell_type": "code",
   "execution_count": 78,
   "metadata": {
    "collapsed": false
   },
   "outputs": [
    {
     "name": "stdout",
     "output_type": "stream",
     "text": [
      "INFO:tensorflow:Restoring parameters from ./my_model_sparse.ckpt\n"
     ]
    },
    {
     "data": {
      "image/png": "[encoded data removed]",
      "text/plain": [
       "<matplotlib.figure.Figure at 0x1b7af96c0b8>"
      ]
     },
     "metadata": {},
     "output_type": "display_data"
    }
   ],
   "source": [
    "show_reconstructed_digits(X, outputs, \"./my_model_sparse.ckpt\")"
   ]
  },
  {
   "cell_type": "markdown",
   "metadata": {},
   "source": [
    "## Variational Autoencoder"
   ]
  },
  {
   "cell_type": "code",
   "execution_count": 84,
   "metadata": {
    "collapsed": true
   },
   "outputs": [],
   "source": [
    "from functools import partial\n",
    "\n",
    "tf.reset_default_graph()\n",
    "\n",
    "n_inputs = 28 * 28\n",
    "n_hidden1 = 500\n",
    "n_hidden2 = 500\n",
    "n_hidden3 = 20   # latent coding\n",
    "n_hidden4 = n_hidden2\n",
    "n_hidden5 = n_hidden1\n",
    "n_outputs = n_inputs\n",
    "\n",
    "learning_rate = 1e-3\n",
    "\n",
    "dense_layer = partial(tf.layers.dense, activation=tf.nn.elu, \n",
    "                      kernel_initializer=tf.contrib.layers.variance_scaling_initializer())\n",
    "\n",
    "X = tf.placeholder(tf.float32, [None, n_inputs])\n",
    "\n",
    "h1 = dense_layer(X, n_hidden1)\n",
    "h2 = dense_layer(h1, n_hidden2)\n",
    "h3_mean = dense_layer(h2, n_hidden3, activation=None)\n",
    "h3_log_gamma = dense_layer(h2, n_hidden3, activation=None)\n",
    "noise = tf.random_normal(tf.shape(h3_mean), dtype=tf.float32)\n",
    "h3 = h3_mean + noise * tf.exp(0.5 * h3_log_gamma)\n",
    "h4 = dense_layer(h3, n_hidden4)\n",
    "h5 = dense_layer(h4, n_hidden5)\n",
    "logits = dense_layer(h5, n_outputs, activation=None)\n",
    "outputs = tf.sigmoid(logits)\n",
    "\n",
    "reconstruction_loss = tf.reduce_sum(tf.nn.sigmoid_cross_entropy_with_logits(logits=logits, labels=X))\n",
    "latent_loss = 0.5 * tf.reduce_sum(tf.exp(h3_log_gamma) + tf.square(h3_mean) - 1 - h3_log_gamma)\n",
    "loss = reconstruction_loss + latent_loss\n",
    "\n",
    "train_op = tf.train.AdamOptimizer(learning_rate).minimize(loss)\n",
    "\n",
    "init = tf.global_variables_initializer()\n",
    "saver = tf.train.Saver()"
   ]
  },
  {
   "cell_type": "code",
   "execution_count": 85,
   "metadata": {
    "collapsed": false
   },
   "outputs": [
    {
     "name": "stdout",
     "output_type": "stream",
     "text": [
      "0 Train cost: 17875.2 \tReconstruction loss: 14240.6 \tLatent loss: 3634.61\n",
      "19% Train cost: 17548.1 \tReconstruction loss: 13777.4 \tLatent loss: 3770.78\n",
      "2 Train cost: 17034.8 \tReconstruction loss: 13168.9 \tLatent loss: 3865.9\n",
      "39% Train cost: 16482.2 \tReconstruction loss: 12694.2 \tLatent loss: 3788.05\n",
      "49% Train cost: 16032.7 \tReconstruction loss: 12276.8 \tLatent loss: 3755.82\n",
      "5 Train cost: 15633.8 \tReconstruction loss: 11945.7 \tLatent loss: 3688.03\n",
      "6 Train cost: 15861.8 \tReconstruction loss: 12043.6 \tLatent loss: 3818.26\n",
      "7 Train cost: 16033.8 \tReconstruction loss: 12243.4 \tLatent loss: 3790.37\n",
      "8 Train cost: 15669.4 \tReconstruction loss: 11919.0 \tLatent loss: 3750.39\n",
      "9 Train cost: 15610.7 \tReconstruction loss: 11797.2 \tLatent loss: 3813.54\n",
      "10 Train cost: 15734.4 \tReconstruction loss: 12052.3 \tLatent loss: 3682.09\n",
      "11 Train cost: 15623.2 \tReconstruction loss: 11804.1 \tLatent loss: 3819.05\n",
      "12 Train cost: 15977.3 \tReconstruction loss: 12092.2 \tLatent loss: 3885.17\n",
      "13 Train cost: 15843.5 \tReconstruction loss: 12004.9 \tLatent loss: 3838.61\n",
      "14 Train cost: 15393.1 \tReconstruction loss: 11578.9 \tLatent loss: 3814.25\n",
      "15 Train cost: 15663.0 \tReconstruction loss: 11889.6 \tLatent loss: 3773.32\n",
      "16 Train cost: 15253.1 \tReconstruction loss: 11408.1 \tLatent loss: 3844.96\n",
      "17 Train cost: 14680.3 \tReconstruction loss: 11130.2 \tLatent loss: 3550.09\n",
      "18 Train cost: 15194.4 \tReconstruction loss: 11436.9 \tLatent loss: 3757.49\n",
      "19 Train cost: 15213.5 \tReconstruction loss: 11517.4 \tLatent loss: 3696.06\n",
      "20% Train cost: 15504.4 \tReconstruction loss: 11723.2 \tLatent loss: 3781.17\n",
      "21 Train cost: 14657.8 \tReconstruction loss: 10954.8 \tLatent loss: 3703.0\n",
      "22 Train cost: 14923.6 \tReconstruction loss: 11239.8 \tLatent loss: 3683.8\n",
      "23 Train cost: 15046.8 \tReconstruction loss: 11250.5 \tLatent loss: 3796.34\n",
      "24 Train cost: 14317.8 \tReconstruction loss: 10749.9 \tLatent loss: 3567.96\n",
      "25 Train cost: 15251.5 \tReconstruction loss: 11554.8 \tLatent loss: 3696.7\n",
      "26 Train cost: 14774.3 \tReconstruction loss: 11169.2 \tLatent loss: 3605.05\n",
      "27 Train cost: 15071.6 \tReconstruction loss: 11280.5 \tLatent loss: 3791.07\n",
      "28 Train cost: 14530.7 \tReconstruction loss: 10921.0 \tLatent loss: 3609.75\n",
      "29% Train cost: 14655.2 \tReconstruction loss: 10987.5 \tLatent loss: 3667.69\n",
      "30% Train cost: 14957.4 \tReconstruction loss: 11297.5 \tLatent loss: 3659.91\n",
      "31 Train cost: 14998.9 \tReconstruction loss: 11261.2 \tLatent loss: 3737.73\n",
      "32 Train cost: 14851.5 \tReconstruction loss: 11157.3 \tLatent loss: 3694.14\n",
      "33 Train cost: 14992.6 \tReconstruction loss: 11296.3 \tLatent loss: 3696.26\n",
      "34 Train cost: 14449.3 \tReconstruction loss: 10744.7 \tLatent loss: 3704.64\n",
      "35 Train cost: 15177.0 \tReconstruction loss: 11381.1 \tLatent loss: 3795.89\n",
      "36 Train cost: 15058.1 \tReconstruction loss: 11355.4 \tLatent loss: 3702.67\n",
      "37 Train cost: 14821.3 \tReconstruction loss: 11129.8 \tLatent loss: 3691.44\n",
      "38 Train cost: 14752.2 \tReconstruction loss: 11011.3 \tLatent loss: 3740.84\n",
      "39 Train cost: 14596.8 \tReconstruction loss: 10949.4 \tLatent loss: 3647.42\n",
      "40 Train cost: 14694.0 \tReconstruction loss: 10995.9 \tLatent loss: 3698.13\n",
      "41 Train cost: 14499.3 \tReconstruction loss: 10767.7 \tLatent loss: 3731.55\n",
      "42 Train cost: 14830.7 \tReconstruction loss: 11197.3 \tLatent loss: 3633.34\n",
      "43% Train cost: 14656.4 \tReconstruction loss: 10998.3 \tLatent loss: 3658.07\n",
      "44 Train cost: 14954.2 \tReconstruction loss: 11257.9 \tLatent loss: 3696.24\n",
      "45 Train cost: 15002.2 \tReconstruction loss: 11240.9 \tLatent loss: 3761.3\n",
      "46 Train cost: 14050.2 \tReconstruction loss: 10452.3 \tLatent loss: 3597.89\n",
      "47% Train cost: 14473.6 \tReconstruction loss: 10740.6 \tLatent loss: 3733.02\n",
      "48 Train cost: 14555.2 \tReconstruction loss: 10851.3 \tLatent loss: 3703.93\n",
      "49 Train cost: 14944.6 \tReconstruction loss: 11207.9 \tLatent loss: 3736.65\n"
     ]
    }
   ],
   "source": [
    "n_epochs = 50\n",
    "batch_size = 150\n",
    "\n",
    "with tf.Session() as sess:\n",
    "    init.run()\n",
    "    for epoch in range(n_epochs):\n",
    "        n_batches = mnist.train.num_examples // batch_size\n",
    "        for iteration in range(n_batches):\n",
    "            print(\"\\r{}%\".format(100 * iteration // n_batches), end=\"\")\n",
    "            sys.stdout.flush()\n",
    "            X_batch, y_batch = mnist.train.next_batch(batch_size)\n",
    "            sess.run(train_op, feed_dict={X: X_batch})\n",
    "        cost_val, reconstruction_loss_val, latent_loss_val = sess.run([loss, reconstruction_loss, latent_loss], feed_dict={X: X_batch})\n",
    "        print(\"\\r{}\".format(epoch), \"Train cost:\", cost_val, \"\\tReconstruction loss:\", reconstruction_loss_val, \"\\tLatent loss:\", latent_loss_val)\n",
    "        saver.save(sess, \"./my_model_variational.ckpt\")"
   ]
  },
  {
   "cell_type": "code",
   "execution_count": 86,
   "metadata": {
    "collapsed": false
   },
   "outputs": [
    {
     "name": "stdout",
     "output_type": "stream",
     "text": [
      "INFO:tensorflow:Restoring parameters from ./my_model_variational.ckpt\n"
     ]
    }
   ],
   "source": [
    "# encode\n",
    "n_digits = 3\n",
    "X_test, y_test = mnist.test.next_batch(batch_size)\n",
    "codings = h3\n",
    "\n",
    "with tf.Session() as sess:\n",
    "    saver.restore(sess, \"./my_model_variational.ckpt\")\n",
    "    codings_val = codings.eval(feed_dict={X: X_test})"
   ]
  },
  {
   "cell_type": "code",
   "execution_count": 87,
   "metadata": {
    "collapsed": false
   },
   "outputs": [
    {
     "name": "stdout",
     "output_type": "stream",
     "text": [
      "INFO:tensorflow:Restoring parameters from ./my_model_variational.ckpt\n"
     ]
    }
   ],
   "source": [
    "# decode\n",
    "with tf.Session() as sess:\n",
    "    saver.restore(sess, \"./my_model_variational.ckpt\")\n",
    "    outputs_val = outputs.eval(feed_dict={codings: codings_val})"
   ]
  },
  {
   "cell_type": "code",
   "execution_count": 88,
   "metadata": {
    "collapsed": false
   },
   "outputs": [
    {
     "data": {
      "image/png": "[encoded data removed]",
      "text/plain": [
       "<matplotlib.figure.Figure at 0x1b7afdaa518>"
      ]
     },
     "metadata": {},
     "output_type": "display_data"
    }
   ],
   "source": [
    "# plot the reconstructions\n",
    "fig = plt.figure(figsize=(8, 2.5 * n_digits))\n",
    "for iteration in range(n_digits):\n",
    "    plt.subplot(n_digits, 2, 1 + 2 * iteration)\n",
    "    plot_image(X_test[iteration])\n",
    "    plt.subplot(n_digits, 2, 2 + 2 * iteration)\n",
    "    plot_image(outputs_val[iteration])"
   ]
  },
  {
   "cell_type": "markdown",
   "metadata": {},
   "source": [
    "### Generate digits"
   ]
  },
  {
   "cell_type": "code",
   "execution_count": 89,
   "metadata": {
    "collapsed": false
   },
   "outputs": [
    {
     "name": "stdout",
     "output_type": "stream",
     "text": [
      "INFO:tensorflow:Restoring parameters from ./my_model_variational.ckpt\n"
     ]
    }
   ],
   "source": [
    "n_rows = 6\n",
    "n_cols = 10\n",
    "n_digits = n_rows * n_cols\n",
    "codings_rnd = np.random.normal(size=[n_digits, n_hidden3])\n",
    "\n",
    "with tf.Session() as sess:\n",
    "    saver.restore(sess, \"./my_model_variational.ckpt\")\n",
    "    outputs_val = outputs.eval(feed_dict={codings: codings_rnd})"
   ]
  },
  {
   "cell_type": "code",
   "execution_count": 91,
   "metadata": {
    "collapsed": false
   },
   "outputs": [
    {
     "name": "stdout",
     "output_type": "stream",
     "text": [
      "Saving figure generated_digits_plot\n"
     ]
    },
    {
     "data": {
      "image/png": "[encoded data removed]",
      "text/plain": [
       "<matplotlib.figure.Figure at 0x1b7c16ef128>"
      ]
     },
     "metadata": {},
     "output_type": "display_data"
    }
   ],
   "source": [
    "plot_multi_images(outputs_val.reshape(-1, 28, 28), n_rows, n_cols)\n",
    "save_fig(\"generated_digits_plot\")\n",
    "plt.show()"
   ]
  },
  {
   "cell_type": "markdown",
   "metadata": {},
   "source": [
    "### Interpolate digits"
   ]
  },
  {
   "cell_type": "code",
   "execution_count": 93,
   "metadata": {
    "collapsed": false
   },
   "outputs": [
    {
     "name": "stdout",
     "output_type": "stream",
     "text": [
      "INFO:tensorflow:Restoring parameters from ./my_model_variational.ckpt\n"
     ]
    },
    {
     "data": {
      "image/png": "[encoded data removed]",
      "text/plain": [
       "<matplotlib.figure.Figure at 0x1b7b1671dd8>"
      ]
     },
     "metadata": {},
     "output_type": "display_data"
    },
    {
     "data": {
      "image/png": "[encoded data removed]",
      "text/plain": [
       "<matplotlib.figure.Figure at 0x1b7c0081208>"
      ]
     },
     "metadata": {},
     "output_type": "display_data"
    },
    {
     "data": {
      "image/png": "[encoded data removed]",
      "text/plain": [
       "<matplotlib.figure.Figure at 0x1b7c179dc50>"
      ]
     },
     "metadata": {},
     "output_type": "display_data"
    },
    {
     "data": {
      "image/png": "[encoded data removed]",
      "text/plain": [
       "<matplotlib.figure.Figure at 0x1b7bf537fd0>"
      ]
     },
     "metadata": {},
     "output_type": "display_data"
    }
   ],
   "source": [
    "n_iterations = 3\n",
    "n_digits = 6\n",
    "codings_rnd = np.random.normal(size=[n_digits, n_hidden3])\n",
    "\n",
    "with tf.Session() as sess:\n",
    "    saver.restore(sess, \"./my_model_variational.ckpt\")\n",
    "    target_codings = np.roll(codings_rnd, -1, axis=0)\n",
    "    for iteration in range(n_iterations + 1):\n",
    "        codings_interpolate = codings_rnd + (target_codings - codings_rnd) * iteration / n_iterations\n",
    "        outputs_val = outputs.eval(feed_dict={codings: codings_interpolate})\n",
    "        plt.figure(figsize=(11, 1.5*n_iterations))\n",
    "        for digit_index in range(n_digits):\n",
    "            plt.subplot(1, n_digits, digit_index + 1)\n",
    "            plot_image(outputs_val[digit_index])\n",
    "        plt.show()"
   ]
  }
 ],
 "metadata": {
  "kernelspec": {
   "display_name": "Python 3",
   "language": "python",
   "name": "python3"
  },
  "language_info": {
   "codemirror_mode": {
    "name": "ipython",
    "version": 3
   },
   "file_extension": ".py",
   "mimetype": "text/x-python",
   "name": "python",
   "nbconvert_exporter": "python",
   "pygments_lexer": "ipython3",
   "version": "3.6.0"
  }
 },
 "nbformat": 4,
 "nbformat_minor": 2
}
