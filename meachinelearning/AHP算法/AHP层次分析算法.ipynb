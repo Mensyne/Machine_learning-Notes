{
 "cells": [
  {
   "cell_type": "code",
   "execution_count": 2,
   "metadata": {},
   "outputs": [],
   "source": [
    "# AHP 层次分析算法其最终的目标是将因素按照不同的层次聚集相结合。最终形成最低层相对于最高层相对重要程度的权值\n",
    "# 或相对优劣次序的问题\n",
    "#1：构建层次结构模型  2：构造判断矩阵  3:层次单排序  4：一致性检验  5：层次总排序\n",
    "# 权重的判断建立在专家打分基础上班，即通过一组打分标准，来赋予单层各个指标的相对权重\n",
    "# 1:表示两个元素相比，具有相同的重要性  3:表示两个元素相比，前者比后者稍重要\n",
    "# 5:表示 两个元素相比，前者比后者明显重要  7：代表两个元素相比，前者比后者及其重要\n",
    "# 9：表示两个元素相比，前者比后者强烈重要    2 4 6 8 表示上述相邻判断的中间值\n",
    "import time\n",
    "import numpy as np\n",
    "import pandas as pd\n",
    "from scrapy.exceptions import DropItem"
   ]
  },
  {
   "cell_type": "code",
   "execution_count": null,
   "metadata": {},
   "outputs": [],
   "source": [
    "# 判断矩阵是否归一化\n",
    "def Weight(data):\n",
    "    if data.shape[0] == data.shape[1]-1 and data.iloc[:,0].dtype=='object':\n",
    "        data = data.iloc[:,1:]\n",
    "        data.index=data.columns\n",
    "    elif data.shape[0] == data.shape[1]:\n",
    "        data.index = data.columns\n",
    "    else:\n",
    "        raise DropItem('please recheck your data structure,you must keep a equal num of the row and col ')\n",
    "    weight_matrix =data.loc[:,].values\n",
    "    weight_vector = weight_matrix/np.sum(data.loc[:,].values,0)\n",
    "    sum_vector_col = weight_vector.sum(axis=1)\n",
    "    return{\n",
    "        'weight_matrix':weight_matrix,\n",
    "        'weight_vector':sum_vector_col/sum_vector_col.sum()\n",
    "    }\n",
    "weight(mydata)['weight_matrix']\n",
    "weight(mydata)['weight_vector']"
   ]
  },
  {
   "cell_type": "code",
   "execution_count": null,
   "metadata": {},
   "outputs": [],
   "source": [
    "# 计算权重矩阵与特征值，特征向量\n",
    "def AW_Weight(data):\n",
    "    dict={}\n",
    "    if data.shape[0] == data.shape[1]-1 and data.iloc[:,0].dtype=='object':\n",
    "        data = data.iloc[:,1]\n",
    "        data.index = data.columns\n",
    "    elif data.shape[0] == data.shape[1]:\n",
    "        data.index = data.columns\n",
    "    else:\n",
    "        raise DropItem('please rechech you data structure,you must keep a equal num of the row and col')\n",
    "    AW_Vector = np.dot(data.values,Weight(mydata)['weight_vector'])\n",
    "    r = (AW_Vector/Weight(mydata)['weiht_vector']).sum()/len(AW_Vector)\n",
    "    dict['AW_Vector'] = AW_Vector\n",
    "    dict['AW_Vector_w'] = AW_Vector/Weight(mydata)['weight_vector']\n",
    "    dict['r'] =r\n",
    "    return dict\n",
    "AW_Weight(mydata)['AW_Vector']\n",
    "AW_Weight(mydata)['AW_Vector_w']\n",
    "AW_Weight(mydata)['r']"
   ]
  },
  {
   "cell_type": "code",
   "execution_count": null,
   "metadata": {},
   "outputs": [],
   "source": [
    "# 一致性检验\n",
    "def Consist_Test(r,n):\n",
    "    RI_refer = [0,0,0.52,0.89,1.12,1.26,1.36,1.41,1.46,1.49,1.52,1.54]\n",
    "    CI = (r-n)/(n-1)\n",
    "    CR = CI/(RT_refer[n-1])\n",
    "    if(CR<=0.01):\n",
    "        print(\"通过一致性检验\")\n",
    "        print(\"wi:\",np.round(CR,4))\n",
    "    else:\n",
    "        print('请调整判断矩阵!','\\n')\n",
    "    return np.round(CR,4)"
   ]
  }
 ],
 "metadata": {
  "kernelspec": {
   "display_name": "Python 3",
   "language": "python",
   "name": "python3"
  },
  "language_info": {
   "codemirror_mode": {
    "name": "ipython",
    "version": 3
   },
   "file_extension": ".py",
   "mimetype": "text/x-python",
   "name": "python",
   "nbconvert_exporter": "python",
   "pygments_lexer": "ipython3",
   "version": "3.6.4"
  }
 },
 "nbformat": 4,
 "nbformat_minor": 2
}
